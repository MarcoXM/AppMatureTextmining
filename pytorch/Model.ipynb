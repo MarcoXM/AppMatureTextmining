{
 "cells": [
  {
   "cell_type": "code",
   "execution_count": 2,
   "metadata": {},
   "outputs": [
    {
     "name": "stdout",
     "output_type": "stream",
     "text": [
      "================================================================================\n",
      "Loading Success ！！\n",
      "================================================================================\n",
      "999994\n"
     ]
    }
   ],
   "source": [
    "from __future__ import print_function\n",
    "import pandas as pd\n",
    "from nltk.tokenize import regexp_tokenize\n",
    "from gensim.models import KeyedVectors\n",
    "from gensim.models import word2vec\n",
    "from gensim.scripts import glove2word2vec\n",
    "import torch\n",
    "import torch.nn as nn\n",
    "from torch.autograd import Variable\n",
    "import torch.optim as optim\n",
    "import torch.nn.functional as F\n",
    "import nltk\n",
    "import random\n",
    "import numpy as np\n",
    "from collections import Counter, OrderedDict\n",
    "import nltk\n",
    "flatten = lambda l: [item for sublist in l for item in sublist]\n",
    "random.seed(224)\n",
    "\n",
    "##########################################\n",
    "#Importing wiki vector####################\n",
    "##########################################\n",
    "## Mac\n",
    "wiki_en = KeyedVectors.load_word2vec_format('/Users/marcowang/Downloads/text_project/data/word2vec_pretrain_data/wiki-news-300d-1M.vec')\n",
    "\n",
    "# Ubantu\n",
    "#wiki_en = KeyedVectors.load_word2vec_format('/home/marco/Downloads/wiki-news-300d-1M.vec')\n",
    "\n",
    "print('=' * 80)\n",
    "print('Loading Success ！！')\n",
    "print('=' * 80)\n",
    "\n",
    "vocab_wiki = list(wiki_en.vocab.keys())\n",
    "print(len(vocab_wiki)) ### pretrain vocab)"
   ]
  },
  {
   "cell_type": "code",
   "execution_count": 145,
   "metadata": {},
   "outputs": [],
   "source": [
    "#loading data\n",
    "#Mac\n",
    "news = pd.read_csv('/Users/marcowang/Downloads/APPLE_above10.csv',index_col=0)"
   ]
  },
  {
   "cell_type": "code",
   "execution_count": 190,
   "metadata": {},
   "outputs": [
    {
     "data": {
      "text/plain": [
       "((22341, 28), 22338)"
      ]
     },
     "execution_count": 190,
     "metadata": {},
     "output_type": "execute_result"
    }
   ],
   "source": [
    "news.shape,len(new_token)"
   ]
  },
  {
   "cell_type": "code",
   "execution_count": 192,
   "metadata": {},
   "outputs": [
    {
     "name": "stdout",
     "output_type": "stream",
     "text": [
      "164683\n"
     ]
    }
   ],
   "source": [
    "\n",
    "\n",
    "#Ubantu\n",
    "#news = pd.read_csv('/home/marco/Dropbox/Textnews/TextProject/sample_data/news20190406_285.csv',index_col=None)\n",
    "\n",
    "newsText = [x.split('\\\\n')[3].replace('<br>-','').replace('<br>','') for x in news['Description']]\n",
    "flatten = lambda l:[item for sublist in  l for item in sublist]\n",
    "newsToken = [regexp_tokenize(sent,pattern = '\\w+|\\$[\\d\\.]+|\\S+') for sent in newsText] #####?\n",
    "new_token = [x for x in newsToken] ##for clean \n",
    "flatToken = flatten(new_token)\n",
    "allWords = [w.lower() for w in flatToken]\n",
    "vocabulary = list(set(allWords))  # news vocabulary \n",
    "print(len(vocabulary))"
   ]
  },
  {
   "cell_type": "code",
   "execution_count": 200,
   "metadata": {},
   "outputs": [
    {
     "data": {
      "text/plain": [
       "'      A.L.E.X. is a fun puzzle game and a great way to train your brain. A.L.E.X. helps you think and plan logically as you program your robot A.L.E.X. with a sequence of commands to get through each level from start to finish. I named A.L.E.X. after my nephew, and created a game I would want him to play. The lower levels of the games are suitable for children as young as six and the game is enjoyable for adults too! FREE VERSION Includes 25 levels Includes feature to create your own puzzle UPGRADE 35 additional levels More block types to create your own puzzles 3 additional looks for A.L.E.X.'"
      ]
     },
     "execution_count": 200,
     "metadata": {},
     "output_type": "execute_result"
    }
   ],
   "source": [
    "newsText[0]"
   ]
  },
  {
   "cell_type": "code",
   "execution_count": 201,
   "metadata": {},
   "outputs": [],
   "source": [
    "#news['Description'][9].split('\\\\n')[3]"
   ]
  },
  {
   "cell_type": "code",
   "execution_count": 202,
   "metadata": {},
   "outputs": [],
   "source": [
    "#word 2 index in corpus\n",
    "word2index={'<PAD>': 0, '<UNK>': 1} # pad means padding !\n",
    "\n",
    "for vo in vocabulary:\n",
    "    if word2index.get(vo) is None:\n",
    "        word2index[vo] = len(word2index)\n",
    "        \n",
    "index2word = {v:k for k, v in word2index.items()}"
   ]
  },
  {
   "cell_type": "code",
   "execution_count": 203,
   "metadata": {},
   "outputs": [],
   "source": [
    "y_rate = list(news['Rating'])\n",
    "# negative impact label as '2'\n",
    "def binaryData(y,label):\n",
    "    ys = y[:]\n",
    "    for i in range(len(ys)):\n",
    "        if ys[i] == label:\n",
    "            ys[i] = np.array(1)\n",
    "        else:\n",
    "            ys[i] = np.array(0)\n",
    "    return list(ys)"
   ]
  },
  {
   "cell_type": "code",
   "execution_count": 204,
   "metadata": {},
   "outputs": [],
   "source": [
    "y_4 = binaryData(y_rate,label = 4)\n",
    "y_9 = binaryData(y_rate,label = 9)\n",
    "y_12 = binaryData(y_rate,label = 12)\n",
    "y_17 = binaryData(y_rate,label = 17)"
   ]
  },
  {
   "cell_type": "code",
   "execution_count": 205,
   "metadata": {},
   "outputs": [],
   "source": [
    "# For GPU use\n",
    "USE_CUDA = torch.cuda.is_available()\n",
    "\n",
    "FloatTensor = torch.cuda.FloatTensor if USE_CUDA else torch.FloatTensor\n",
    "LongTensor = torch.cuda.LongTensor if USE_CUDA else torch.LongTensor\n",
    "ByteTensor = torch.cuda.ByteTensor if USE_CUDA else torch.ByteTensor\n",
    "\n",
    "# Batch\n",
    "def getBatch(batch_size, train_data):\n",
    "        random.shuffle(train_data)\n",
    "        sindex = 0\n",
    "        eindex = batch_size\n",
    "        while eindex < len(train_data):\n",
    "            batch = train_data[sindex: eindex]\n",
    "            temp = eindex\n",
    "            eindex = eindex + batch_size\n",
    "            sindex = temp\n",
    "            yield batch\n",
    "\n",
    "        if eindex >= len(train_data):\n",
    "            batch = train_data[sindex:]\n",
    "            yield batch\n",
    "\n",
    "\n",
    "\n",
    "\n",
    "#seq text transform\n",
    "def prepare_sequence(seq, to_index):\n",
    "    idxs = list(map(lambda w: to_index[w] if to_index.get(w) is not None else to_index[\"<UNK>\"], seq))\n",
    "    return Variable(LongTensor(idxs))"
   ]
  },
  {
   "cell_type": "code",
   "execution_count": 206,
   "metadata": {},
   "outputs": [
    {
     "data": {
      "image/png": "[encoded data removed]",
      "text/plain": [
       "<Figure size 432x288 with 1 Axes>"
      ]
     },
     "metadata": {
      "needs_background": "light"
     },
     "output_type": "display_data"
    },
    {
     "data": {
      "text/plain": [
       "1325"
      ]
     },
     "execution_count": 206,
     "metadata": {},
     "output_type": "execute_result"
    }
   ],
   "source": [
    "xxx= [len(x) for x in new_token]\n",
    "import matplotlib.pyplot as plt\n",
    "plt.hist(xxx)\n",
    "plt.show()\n",
    "max(xxx)"
   ]
  },
  {
   "cell_type": "code",
   "execution_count": 208,
   "metadata": {},
   "outputs": [],
   "source": [
    "def pad_to_batch(batch,max_x = 955):\n",
    "    x,y = zip(*batch)\n",
    "    \n",
    "    x_p = []\n",
    "    for i in range(len(batch)):\n",
    "        if x[i].size(1) < max_x:\n",
    "            x_p.append(torch.cat([x[i], Variable(LongTensor([word2index['<PAD>']] * (max_x - x[i].size(1)))).view(1, -1)], 1))\n",
    "        else:\n",
    "            x_p.append(x[i])\n",
    "    return torch.cat(x_p), torch.cat(y).type(LongTensor).view(-1)"
   ]
  },
  {
   "cell_type": "code",
   "execution_count": 209,
   "metadata": {},
   "outputs": [],
   "source": [
    "#pretrain vector\n",
    "pretrained = []\n",
    "\n",
    "for key in word2index.keys():\n",
    "    try:\n",
    "        pretrained.append(wiki_en[word2index[key]])\n",
    "    except:\n",
    "        pretrained.append(np.random.randn(300))\n",
    "        \n",
    "pretrained_vectors = np.vstack(pretrained)"
   ]
  },
  {
   "cell_type": "code",
   "execution_count": 210,
   "metadata": {},
   "outputs": [
    {
     "data": {
      "text/plain": [
       "tensor([[     1,      1,   2906,    878,  72032, 146178,  81086,  64699,    878,\n",
       "         148599, 109143, 102274, 121835,  28322,  59804, 142610,      1,      1,\n",
       "         100551,    656,  20799,  64699,  10454,  58337, 117301,    656,  58959,\n",
       "          28322,  62290,      1,      1, 138873,    878, 140406,  25106, 132972,\n",
       "         102274,  36741,  38238,  34045, 114918,  74721,  30662, 102274, 114152,\n",
       "         142610,      1, 144044,      1,      1, 103788,  84738,  53654, 134739,\n",
       "          64699,  19021,    878,  81086,      1,  88368,   3880, 144177, 102274,\n",
       "          67464, 142610,      1,  94740, 111241,  25106,  93006,  62679,   4999,\n",
       "         136594,  41810, 148928, 117301, 111612, 117301,  93857,  64699,  93006,\n",
       "          81086,   2906,  53512,  41810, 138175,  65058,  96880,      1,      1,\n",
       "              1,  44431, 111241,      1,  82448, 102274,  17133,  28322,  22276,\n",
       "         146178,      1, 159526,  45616, 111241,      1,  23014,  30229, 102274,\n",
       "          17133,  28322,  22276, 129205,  54336,  45616,  62654,  41810,      1,\n",
       "              1]])"
      ]
     },
     "execution_count": 210,
     "metadata": {},
     "output_type": "execute_result"
    }
   ],
   "source": [
    "# 4\n",
    "X_p, y_p = [],[]\n",
    "\n",
    "for x,y in zip(newsToken,y_4):\n",
    "    if len(x) <=1000:\n",
    "        #print(y)\n",
    "        X_p.append(prepare_sequence(x, word2index).view(1, -1))\n",
    "        #print(Variable(LongTensor(y).view(1, -1)))\n",
    "        y_p.append(Variable(torch.from_numpy(y).view(1, -1)))\n",
    "        \n",
    "    \n",
    "data_p = list(zip(X_p,y_p))\n",
    "random.shuffle(data_p)\n",
    "\n",
    "train_data = data_p[: int(len(data_p) * 0.8)]\n",
    "test_data = data_p[int(len(data_p) * 0.2):]\n",
    "X_p[0]"
   ]
  },
  {
   "cell_type": "code",
   "execution_count": 211,
   "metadata": {},
   "outputs": [
    {
     "data": {
      "text/plain": [
       "(tensor([[1]]), torch.Tensor)"
      ]
     },
     "execution_count": 211,
     "metadata": {},
     "output_type": "execute_result"
    }
   ],
   "source": [
    "train_data[4][1],type(train_data[4][1])"
   ]
  },
  {
   "cell_type": "code",
   "execution_count": 212,
   "metadata": {},
   "outputs": [],
   "source": [
    "##Model Structure \n",
    "class Rate(nn.Module):\n",
    "    \n",
    "    def __init__(self, vocab_size, embedding_dim):\n",
    "        super(Rate,self).__init__()\n",
    "        self.embedding_w = nn.Embedding(vocab_size, embedding_dim)\n",
    "        self.rnn = nn.LSTM(     # \n",
    "        input_size = 300,      # vecter dimension\n",
    "        hidden_size=64,     # rnn hidden unit\n",
    "        num_layers=1,       # \n",
    "        batch_first=True,   # input & output \n",
    "        )\n",
    "        self.out = nn.Linear(64, 2) #  1 class\n",
    "        \n",
    "    \n",
    "    \n",
    "    def init_weights(self, pretrained_word_vectors, is_static=True):\n",
    "        self.embedding_w.weight = nn.Parameter(torch.from_numpy(pretrained_word_vectors).float())\n",
    "        if is_static:\n",
    "            self.embedding_w.weight.requires_grad = False\n",
    "\n",
    "\n",
    "    def forward(self, inputs, is_training=False):\n",
    "        inputs = self.embedding_w(inputs) # \n",
    "        r_out, (h_n, h_c) = self.rnn(inputs, None)\n",
    "        out = self.out(r_out[:, -1, :])\n",
    "        return out"
   ]
  },
  {
   "cell_type": "code",
   "execution_count": null,
   "metadata": {},
   "outputs": [
    {
     "name": "stdout",
     "output_type": "stream",
     "text": [
      "0\n",
      "Epoch:  0/10 | train loss: 0.7260 | test accuracy: 0.39\n",
      "1\n",
      "2\n",
      "3\n",
      "4\n",
      "5\n",
      "6\n",
      "7\n",
      "8\n",
      "9\n",
      "10\n",
      "11\n",
      "12\n",
      "13\n",
      "14\n",
      "15\n",
      "16\n",
      "17\n",
      "18\n",
      "19\n",
      "20\n",
      "21\n",
      "22\n",
      "23\n",
      "24\n",
      "25\n",
      "26\n",
      "27\n",
      "28\n",
      "29\n",
      "30\n",
      "31\n",
      "32\n",
      "33\n",
      "34\n",
      "35\n",
      "0\n",
      "Epoch:  1/10 | train loss: 0.6342 | test accuracy: 0.39\n",
      "1\n",
      "2\n",
      "3\n",
      "4\n",
      "5\n",
      "6\n",
      "7\n",
      "8\n",
      "9\n",
      "10\n",
      "11\n",
      "12\n",
      "13\n",
      "14\n",
      "15\n",
      "16\n",
      "17\n",
      "18\n",
      "19\n",
      "20\n",
      "21\n",
      "22\n",
      "23\n",
      "24\n",
      "25\n",
      "26\n",
      "27\n",
      "28\n",
      "29\n",
      "30\n",
      "31\n",
      "32\n",
      "33\n",
      "34\n",
      "35\n",
      "0\n",
      "Epoch:  2/10 | train loss: 0.6013 | test accuracy: 0.39\n",
      "1\n",
      "2\n",
      "3\n",
      "4\n",
      "5\n",
      "6\n",
      "7\n",
      "8\n",
      "9\n",
      "10\n",
      "11\n",
      "12\n",
      "13\n",
      "14\n",
      "15\n",
      "16\n",
      "17\n",
      "18\n",
      "19\n",
      "20\n",
      "21\n",
      "22\n",
      "23\n",
      "24\n",
      "25\n",
      "26\n",
      "27\n",
      "28\n",
      "29\n",
      "30\n",
      "31\n",
      "32\n",
      "33\n",
      "34\n",
      "35\n",
      "0\n",
      "Epoch:  3/10 | train loss: 0.6114 | test accuracy: 0.39\n",
      "1\n",
      "2\n",
      "3\n",
      "4\n",
      "5\n",
      "6\n",
      "7\n",
      "8\n",
      "9\n",
      "10\n",
      "11\n",
      "12\n",
      "13\n",
      "14\n",
      "15\n",
      "16\n",
      "17\n",
      "18\n",
      "19\n",
      "20\n",
      "21\n",
      "22\n",
      "23\n",
      "24\n",
      "25\n",
      "26\n",
      "27\n",
      "28\n",
      "29\n",
      "30\n",
      "31\n",
      "32\n",
      "33\n",
      "34\n",
      "35\n",
      "0\n",
      "Epoch:  4/10 | train loss: 0.6494 | test accuracy: 0.39\n",
      "1\n",
      "2\n",
      "3\n",
      "4\n",
      "5\n",
      "6\n",
      "7\n",
      "8\n",
      "9\n",
      "10\n",
      "11\n",
      "12\n",
      "13\n",
      "14\n",
      "15\n",
      "16\n",
      "17\n"
     ]
    }
   ],
   "source": [
    "#4\n",
    "EPOCH = 10\n",
    "BATCH_SIZE = 500\n",
    "LR = 0.001\n",
    "TIME_STEP = 191          # rnn time step / \n",
    "INPUT_SIZE = 5\n",
    "\n",
    "apmodel = Rate(len(word2index), 300)\n",
    "apmodel.init_weights(pretrained_vectors) # initialize embedding matrix using pretrained vectors\n",
    "\n",
    "loss_function = nn.CrossEntropyLoss()\n",
    "optimizer = optim.Adam(apmodel.parameters(), lr=LR)\n",
    "\n",
    "for epoch in range(EPOCH):\n",
    "    losses = []\n",
    "    for i,batch in enumerate(getBatch(BATCH_SIZE, train_data)):\n",
    "        print(i)\n",
    "        inputs,targets = pad_to_batch(batch)\n",
    "        #print(targets.size())          \n",
    "        apmodel.zero_grad()\n",
    "        preds = apmodel(inputs,True)\n",
    "        #print(preds.size())\n",
    "        loss = loss_function(preds, targets)\n",
    "        losses.append(loss.data.mean())\n",
    "        loss.backward()\n",
    "        \n",
    "        \n",
    "        optimizer.step()\n",
    "        acc = 0\n",
    "        if i % 100 == 0:\n",
    "            for test in test_data:\n",
    "                oup = apmodel(test[0])\n",
    "                a = (torch.max(oup,1)[1].item())\n",
    "                b = (test[1][0][0].item())\n",
    "                if a == b:\n",
    "                    acc +=1\n",
    "            accuracy = acc/len(test_data)\n",
    "            print('Epoch: ', str(epoch)+'/'+str(EPOCH), '| train loss: %.4f' % loss.data.numpy(), '| test accuracy: %.2f' % accuracy)\n"
   ]
  },
  {
   "cell_type": "code",
   "execution_count": 119,
   "metadata": {},
   "outputs": [],
   "source": [
    "n_data = torch.ones(100, 2)         # 数据的基本形态\n",
    "x0 = torch.normal(2*n_data, 1)      # 类型0 x data (tensor), shape=(100, 2)\n",
    "y0 = torch.zeros(100)               # 类型0 y data (tensor), shape=(100, )\n",
    "x1 = torch.normal(-2*n_data, 1)     # 类型1 x data (tensor), shape=(100, 1)\n",
    "y1 = torch.ones(100)     "
   ]
  },
  {
   "cell_type": "code",
   "execution_count": 128,
   "metadata": {},
   "outputs": [],
   "source": [
    "# 注意 x, y 数据的数据形式是一定要像下面一样 (torch.cat 是在合并数据)\n",
    "x = torch.cat((x0, x1), 0).type(torch.FloatTensor)  # FloatTensor = 32-bit floating\n",
    "y = torch.cat((y0, y1), ).type(torch.LongTensor)    # LongTensor = 64-bit integer\n",
    "\n",
    "# plt.scatter(x.data.numpy()[:, 0], x.data.numpy()[:, 1], c=y.data.numpy(), s=100, lw=0, cmap='RdYlGn')\n",
    "# plt.show()"
   ]
  },
  {
   "cell_type": "code",
   "execution_count": null,
   "metadata": {},
   "outputs": [],
   "source": [
    "# 4\n",
    "X_p12, y_p12 = [],[]\n",
    "\n",
    "for x,y in zip(newsToken,y_12):\n",
    "    if len(x) <=1000:\n",
    "        #print(y)\n",
    "        X_p12.append(prepare_sequence(x, word2index).view(1, -1))\n",
    "        #print(Variable(LongTensor(y).view(1, -1)))\n",
    "        y_p12.append(Variable(torch.from_numpy(y).view(1, -1)))\n",
    "        \n",
    "    \n",
    "data_p12 = list(zip(X_p,y_p))\n",
    "random.shuffle(data_p12)\n",
    "\n",
    "train_data12 = data_p[: int(len(data_p12) * 0.8)]\n",
    "test_data12 = data_p[int(len(data_p12) * 0.2):]\n",
    "X_p12[0]"
   ]
  },
  {
   "cell_type": "code",
   "execution_count": null,
   "metadata": {},
   "outputs": [],
   "source": [
    "#4\n",
    "EPOCH = 10\n",
    "BATCH_SIZE = 500\n",
    "LR = 0.001\n",
    "TIME_STEP = 191          # rnn time step / \n",
    "INPUT_SIZE = 5\n",
    "\n",
    "apmodel12 = Rate(len(word2index), 300)\n",
    "apmodel12.init_weights(pretrained_vectors) # initialize embedding matrix using pretrained vectors\n",
    "\n",
    "loss_function = nn.CrossEntropyLoss()\n",
    "optimizer = optim.Adam(apmodel12.parameters(), lr=LR)\n",
    "\n",
    "for epoch in range(EPOCH):\n",
    "    losses = []\n",
    "    for i,batch in enumerate(getBatch(BATCH_SIZE, train_data12)):\n",
    "        print(i)\n",
    "        inputs,targets = pad_to_batch(batch)\n",
    "        #print(targets.size())          \n",
    "        apmodel12.zero_grad()\n",
    "        preds = apmodel12(inputs,True)\n",
    "        #print(preds.size())\n",
    "        loss = loss_function(preds, targets)\n",
    "        losses.append(loss.data.mean())\n",
    "        loss.backward()\n",
    "        \n",
    "        \n",
    "        optimizer.step()\n",
    "        acc = 0\n",
    "        if i % 100 == 0:\n",
    "            for test in test_data12:\n",
    "                oup = apmodel12(test[0])\n",
    "                a = (torch.max(oup,1)[1].item())\n",
    "                b = (test[1][0][0].item())\n",
    "                if a == b:\n",
    "                    acc +=1\n",
    "            accuracy = acc/len(test_data12)\n",
    "            print('Epoch: ', str(epoch)+'/'+str(EPOCH), '| train loss: %.4f' % loss.data.numpy(), '| test accuracy: %.2f' % accuracy)\n"
   ]
  },
  {
   "cell_type": "code",
   "execution_count": null,
   "metadata": {},
   "outputs": [],
   "source": []
  }
 ],
 "metadata": {
  "kernelspec": {
   "display_name": "Python 3",
   "language": "python",
   "name": "python3"
  },
  "language_info": {
   "codemirror_mode": {
    "name": "ipython",
    "version": 3
   },
   "file_extension": ".py",
   "mimetype": "text/x-python",
   "name": "python",
   "nbconvert_exporter": "python",
   "pygments_lexer": "ipython3",
   "version": "3.6.8"
  }
 },
 "nbformat": 4,
 "nbformat_minor": 2
}
